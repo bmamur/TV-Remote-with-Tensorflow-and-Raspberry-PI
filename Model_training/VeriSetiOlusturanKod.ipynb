{
 "cells": [
  {
   "cell_type": "code",
   "execution_count": 3,
   "metadata": {},
   "outputs": [],
   "source": [
    "import cv2\n",
    "import os\n",
    "import time\n",
    "import uuid"
   ]
  },
  {
   "cell_type": "code",
   "execution_count": 4,
   "metadata": {},
   "outputs": [],
   "source": [
    "#Fotograflarin kaydedilecegi path\n",
    "imagePath='Tensorflow/workspace/images/collectedimages' "
   ]
  },
  {
   "cell_type": "code",
   "execution_count": 5,
   "metadata": {},
   "outputs": [],
   "source": [
    "#Her fonksiyonun labellari\n",
    "labels = ['volumeup','volumedown','channelnext','channelpre','n1','n2','n3','n4','n5','n6','n7','n8','n9','n0','mute','power','menu','ok','exit']\n",
    "number_imgs = 20"
   ]
  },
  {
   "cell_type": "code",
   "execution_count": null,
   "metadata": {},
   "outputs": [
    {
     "name": "stdout",
     "output_type": "stream",
     "text": [
      "Collecting images for volumeup\n",
      "Collecting images for volumedown\n",
      "Collecting images for channelnext\n",
      "Collecting images for channelpre\n",
      "Collecting images for n1\n",
      "Collecting images for n2\n",
      "Collecting images for n3\n",
      "Collecting images for n4\n",
      "Collecting images for n5\n",
      "Collecting images for n6\n",
      "Collecting images for n7\n",
      "Collecting images for n8\n",
      "Collecting images for n9\n",
      "Collecting images for n0\n",
      "Collecting images for mute\n",
      "Collecting images for power\n",
      "Collecting images for menu\n",
      "Collecting images for ok\n",
      "Collecting images for exit\n"
     ]
    }
   ],
   "source": [
    "#her label icin 20 adet fotograf ceken kod parcasi. Farkli ortam kosullarinda calistirilarak veriler toplanir.\n",
    "for label in labels:\n",
    "    !mkdir {'Tensorflow\\workspace\\images\\collectedimages\\\\'+label}\n",
    "    cap = cv2.VideoCapture(0)\n",
    "    print(\"Collecting images for \"+label)\n",
    "    time.sleep(5)\n",
    "    for imgnum in range(number_imgs):\n",
    "        ret, frame = cap.read()\n",
    "        imgname = os.path.join(imagePath, label, label+'.'+'saloncokaydinlik'+str(imgnum)+'.jpg')\n",
    "        cv2.imwrite(imgname, frame)\n",
    "        cv2.imshow('frame', frame)\n",
    "        time.sleep(2)\n",
    "        \n",
    "        if cv2.waitKey(1) & 0xFF == ord('q'):break\n",
    "    cap.release()\n",
    "    "
   ]
  },
  {
   "cell_type": "code",
   "execution_count": null,
   "metadata": {},
   "outputs": [],
   "source": []
  }
 ],
 "metadata": {
  "kernelspec": {
   "display_name": "Python 3",
   "language": "python",
   "name": "python3"
  },
  "language_info": {
   "codemirror_mode": {
    "name": "ipython",
    "version": 3
   },
   "file_extension": ".py",
   "mimetype": "text/x-python",
   "name": "python",
   "nbconvert_exporter": "python",
   "pygments_lexer": "ipython3",
   "version": "3.7.3"
  }
 },
 "nbformat": 4,
 "nbformat_minor": 2
}
