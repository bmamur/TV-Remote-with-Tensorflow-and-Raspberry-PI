{
 "cells": [
  {
   "cell_type": "code",
   "execution_count": 1,
   "metadata": {},
   "outputs": [],
   "source": [
    "#PATHS\n",
    "#Daha kolay bir sekilde yazmak ve okumak icin pathler bu sekilde olusturuldu.\n",
    "WORKSPACE_PATH = 'Tensorflow/workspace'\n",
    "SCRIPTS_PATH = 'Tensorflow/scripts'\n",
    "APIMODEL_PATH = 'Tensorflow/models'\n",
    "ANNOTATION_PATH = WORKSPACE_PATH+'/annotations'\n",
    "IMAGE_PATH = WORKSPACE_PATH+'/images'\n",
    "MODEL_PATH = WORKSPACE_PATH+'/models'\n",
    "PRETRAINED_MODEL_PATH = WORKSPACE_PATH+'/pre-trained-models'\n",
    "CONFIG_PATH = MODEL_PATH+'/modell_ssd_mobnet/pipeline.config'\n",
    "CHECKPOINT_PATH = MODEL_PATH+'/modell_ssd_mobnet/'"
   ]
  },
  {
   "cell_type": "code",
   "execution_count": 4,
   "metadata": {},
   "outputs": [
    {
     "name": "stdout",
     "output_type": "stream",
     "text": [
      "Successfully created the TFRecord file: Tensorflow/workspace/annotations/train.record\n",
      "Successfully created the TFRecord file: Tensorflow/workspace/annotations/test.record\n"
     ]
    }
   ],
   "source": [
    "# Tensorflow Records\n",
    "#Verileri Tensowflowun anlayabilecegi sekle donusturup egitim icin hazir hale getiriyor.\n",
    "\n",
    "!python {SCRIPTS_PATH + '/generate_tfrecord.py'} -x {IMAGE_PATH + '/train'} -l {ANNOTATION_PATH + '/label_map.pbtxt'} -o {ANNOTATION_PATH + '/train.record'}\n",
    "!python {SCRIPTS_PATH + '/generate_tfrecord.py'} -x{IMAGE_PATH + '/test'} -l {ANNOTATION_PATH + '/label_map.pbtxt'} -o {ANNOTATION_PATH + '/test.record'}\n"
   ]
  },
  {
   "cell_type": "code",
   "execution_count": 4,
   "metadata": {},
   "outputs": [
    {
     "name": "stderr",
     "output_type": "stream",
     "text": [
      "Cloning into 'models'...\n",
      "Updating files:  61% (1377/2250)\n",
      "Updating files:  62% (1395/2250)\n",
      "Updating files:  63% (1418/2250)\n",
      "Updating files:  64% (1440/2250)\n",
      "Updating files:  65% (1463/2250)\n",
      "Updating files:  66% (1485/2250)\n",
      "Updating files:  67% (1508/2250)\n",
      "Updating files:  68% (1530/2250)\n",
      "Updating files:  69% (1553/2250)\n",
      "Updating files:  70% (1575/2250)\n",
      "Updating files:  71% (1598/2250)\n",
      "Updating files:  72% (1620/2250)\n",
      "Updating files:  73% (1643/2250)\n",
      "Updating files:  74% (1665/2250)\n",
      "Updating files:  75% (1688/2250)\n",
      "Updating files:  76% (1710/2250)\n",
      "Updating files:  77% (1733/2250)\n",
      "Updating files:  78% (1755/2250)\n",
      "Updating files:  79% (1778/2250)\n",
      "Updating files:  80% (1800/2250)\n",
      "Updating files:  81% (1823/2250)\n",
      "Updating files:  82% (1845/2250)\n",
      "Updating files:  83% (1868/2250)\n",
      "Updating files:  84% (1890/2250)\n",
      "Updating files:  85% (1913/2250)\n",
      "Updating files:  86% (1935/2250)\n",
      "Updating files:  87% (1958/2250)\n",
      "Updating files:  88% (1980/2250)\n",
      "Updating files:  89% (2003/2250)\n",
      "Updating files:  90% (2025/2250)\n",
      "Updating files:  91% (2048/2250)\n",
      "Updating files:  92% (2070/2250)\n",
      "Updating files:  93% (2093/2250)\n",
      "Updating files:  94% (2115/2250)\n",
      "Updating files:  95% (2138/2250)\n",
      "Updating files:  96% (2160/2250)\n",
      "Updating files:  97% (2183/2250)\n",
      "Updating files:  98% (2205/2250)\n",
      "Updating files:  99% (2228/2250)\n",
      "Updating files: 100% (2250/2250)\n",
      "Updating files: 100% (2250/2250), done.\n"
     ]
    }
   ],
   "source": [
    "# Githubdan Tensorflow nesne tespiti icin gerekli olan belgeler indiriliyor.\n",
    "!cd Tensorflow && git clone https://github.com/tensorflow/models"
   ]
  },
  {
   "cell_type": "code",
   "execution_count": 2,
   "metadata": {},
   "outputs": [],
   "source": [
    "# Tensorflow Model Zoodan temin edilen modelin pipeline konfigurasyon dosyasi\n",
    "#projede kullanilacak fonksiyonlara gore uygun hale getirilecek\n",
    "MY_MODEL_NAME = 'modell_ssd_mobnet' "
   ]
  },
  {
   "cell_type": "code",
   "execution_count": 3,
   "metadata": {},
   "outputs": [],
   "source": [
    "# Tensorflow kutuphanesi import edildi ve konfigurasyon dosyasinda degisiklik yapmak\n",
    "#icin birkac kutuphaneden fonksiyonlar import edildi\n",
    "import tensorflow as tf\n",
    "from object_detection.utils import config_util\n",
    "from google.protobuf import text_format\n",
    "from object_detection.protos import pipeline_pb2"
   ]
  },
  {
   "cell_type": "code",
   "execution_count": 7,
   "metadata": {},
   "outputs": [],
   "source": [
    "#Konfigurasyon dosyasini acmak icin pathi olusturuldu ve dosya okundu\n",
    "CONFIG_PATH = MODEL_PATH+'/'+MY_MODEL_NAME+'/pipeline.config'\n",
    "config = config_util.get_configs_from_pipeline_file(CONFIG_PATH)"
   ]
  },
  {
   "cell_type": "code",
   "execution_count": 9,
   "metadata": {},
   "outputs": [],
   "source": [
    "\n",
    "pipeline_config = pipeline_pb2.TrainEvalPipelineConfig()\n",
    "with tf.io.gfile.GFile(CONFIG_PATH, \"r\") as f:                                                                                                                                                                                                                     \n",
    "    proto_str = f.read()                                                                                                                                                                                                                                          \n",
    "    text_format.Merge(proto_str, pipeline_config)"
   ]
  },
  {
   "cell_type": "code",
   "execution_count": 10,
   "metadata": {},
   "outputs": [],
   "source": [
    "#Buradaki parametreler projeye uygun bir sekilde degistirildi ornegin ilk satirdaki class sayisi 19 olarak degistirildi.\n",
    "pipeline_config.model.ssd.num_classes = 19\n",
    "pipeline_config.train_config.batch_size = 4\n",
    "pipeline_config.train_config.fine_tune_checkpoint = PRETRAINED_MODEL_PATH+'/ssd_mobilenet_v2_fpnlite_320x320_coco17_tpu-8/checkpoint/ckpt-0'\n",
    "pipeline_config.train_config.fine_tune_checkpoint_type = \"detection\"\n",
    "pipeline_config.train_input_reader.label_map_path= ANNOTATION_PATH + '/label_map.pbtxt'\n",
    "pipeline_config.train_input_reader.tf_record_input_reader.input_path[:] = [ANNOTATION_PATH + '/train.record']\n",
    "pipeline_config.eval_input_reader[0].label_map_path = ANNOTATION_PATH + '/label_map.pbtxt'\n",
    "pipeline_config.eval_input_reader[0].tf_record_input_reader.input_path[:] = [ANNOTATION_PATH + '/test.record']"
   ]
  },
  {
   "cell_type": "code",
   "execution_count": 11,
   "metadata": {},
   "outputs": [],
   "source": [
    "#Yapilan degisiklikler kaydediliyor ve dosyaya f.write ile yaziliyor.\n",
    "config_text = text_format.MessageToString(pipeline_config)                                                                                                                                                                                                        \n",
    "with tf.io.gfile.GFile(CONFIG_PATH, \"wb\") as f:                                                                                                                                                                                                                     \n",
    "    f.write(config_text)  "
   ]
  },
  {
   "cell_type": "code",
   "execution_count": 13,
   "metadata": {},
   "outputs": [
    {
     "name": "stdout",
     "output_type": "stream",
     "text": [
      "python Tensorflow/models/research/object_detection/model_main_tf2.py --model_dir=Tensorflow/workspace/models/modell_ssd_mobnet --pipeline_config_path=Tensorflow/workspace/models/modell_ssd_mobnet/pipeline.config --num_train_steps=40000\n"
     ]
    }
   ],
   "source": [
    "# Komut penceresinde cd ile calisma klasorune gidilir ve alttaki kod yapistirilip runlanir. \n",
    "#Burada test sonuclarina gore num_train_steps parametresi degistirilebilir. Performans testlerinden sonra en iyi performansi 40000 olarak karar verdim.\n",
    "#Azi yeterince iyi tespit etmiyo fazlasi ise ezberlemeye yol aciyor.\n",
    "print(\"\"\"python {}/research/object_detection/model_main_tf2.py --model_dir={}/{} --pipeline_config_path={}/{}/pipeline.config --num_train_steps=40000\"\"\".format(APIMODEL_PATH, MODEL_PATH,MY_MODEL_NAME,MODEL_PATH,MY_MODEL_NAME))"
   ]
  },
  {
   "cell_type": "code",
   "execution_count": 4,
   "metadata": {},
   "outputs": [],
   "source": [
    "#Bundan sonrasi bilgisayarda test etmek icindir.\n",
    "#Egitilen model checkpoint dosyalari olusturur.\n",
    "# Sistem dosyalari arasinda gezinmek icin os kutuphanesi, olusturulan checkpointten model insa etmek icin\n",
    "#model_builder ve label_map_util kutuphaneleri importlandi.\n",
    "import os\n",
    "from object_detection.utils import label_map_util\n",
    "from object_detection.utils import visualization_utils as viz_utils\n",
    "from object_detection.builders import model_builder"
   ]
  },
  {
   "cell_type": "code",
   "execution_count": 5,
   "metadata": {},
   "outputs": [],
   "source": [
    "configs = config_util.get_configs_from_pipeline_file(CONFIG_PATH)#Duzenlenen konfigurasyon dosyasini yukler\n",
    "my_model = model_builder.build(model_config=configs['model'], is_training=False)#Duzenlenen konfigurasyon dosyasini kullanarak model olusturur.\n",
    "\n",
    "# Restore checkpoint\n",
    "ckpt = tf.compat.v2.train.Checkpoint(model=my_model)#Tahminlerde kullanmasi icin en gelismis chechkpoint secilir.\n",
    "ckpt.restore(os.path.join(CHECKPOINT_PATH, 'ckpt-41')).expect_partial()\n",
    "\n",
    "@tf.function\n",
    "def detector(image):\n",
    "    image, shapes = my_model.preprocess(image)#input fotografini modele girmesi icin resize gibi islemlerle uygun hale getirir.\n",
    "    prediction_dict = my_model.predict(image, shapes)# Tahmin olusturulur\n",
    "    detections = my_model.postprocess(prediction_dict, shapes)#Output verilerini anlasilmasi daha kolay bir hal olan dictionarye donusturur.\n",
    "    return detections"
   ]
  },
  {
   "cell_type": "code",
   "execution_count": 6,
   "metadata": {},
   "outputs": [],
   "source": [
    "# Kamera icin opencv numpy importlanir.\n",
    "import cv2 \n",
    "import numpy as np\n",
    "import tensorflow as tf"
   ]
  },
  {
   "cell_type": "code",
   "execution_count": 7,
   "metadata": {},
   "outputs": [],
   "source": [
    "category_index = label_map_util.create_category_index_from_labelmap(ANNOTATION_PATH+'/label_map.pbtxt')#Kategori indexi olusturuluyor. Bu tahmini label maple esleyecek olan ve kullanilacak degisken."
   ]
  },
  {
   "cell_type": "code",
   "execution_count": 8,
   "metadata": {},
   "outputs": [],
   "source": [
    "# Setup capture\n",
    "cap = cv2.VideoCapture(0)\n",
    "width = int(cap.get(cv2.CAP_PROP_FRAME_WIDTH))\n",
    "height = int(cap.get(cv2.CAP_PROP_FRAME_HEIGHT))"
   ]
  },
  {
   "cell_type": "code",
   "execution_count": 9,
   "metadata": {},
   "outputs": [],
   "source": [
    "while True: \n",
    "    ret, frame = cap.read()\n",
    "    image_np = np.array(frame)\n",
    "    \n",
    "    input_tensor = tf.convert_to_tensor(np.expand_dims(image_np, 0), dtype=tf.float32)# Kameranin gordugu framei tensore cevirir.\n",
    "    detections = detector(input_tensor)#detections tahminlerin isimlerini koordinatlarini ve skorlarini tutar.\n",
    "    \n",
    "    num_detections = int(detections.pop('num_detections'))\n",
    "    detections = {key: value[0, :num_detections].numpy()\n",
    "                  for key, value in detections.items()}\n",
    "    detections['num_detections'] = num_detections\n",
    "\n",
    "    # classes integera donusturuldu.\n",
    "    detections['detection_classes'] = detections['detection_classes'].astype(np.int64)\n",
    "\n",
    "    \n",
    "    image_np_with_detections = image_np.copy()\n",
    "\n",
    "    viz_utils.visualize_boxes_and_labels_on_image_array(\n",
    "                image_np_with_detections,\n",
    "                detections['detection_boxes'],\n",
    "                detections['detection_classes']+1,#kategori indexi ile uyusmasi icin +1 konuldu.\n",
    "                detections['detection_scores'],\n",
    "                category_index,\n",
    "                use_normalized_coordinates=True,\n",
    "                max_boxes_to_draw=1,\n",
    "                min_score_thresh=.7,\n",
    "                agnostic_mode=False)# Elin etrafina kutu ciziyor ve skoru ve ismini yazdiriyor\n",
    "\n",
    "    cv2.imshow('object detection',  cv2.resize(image_np_with_detections, (800, 600)))\n",
    "    \n",
    "    if detections['detection_scores'][0] >= 0.7:\n",
    "        command=category_index[detections['detection_classes'][0]+1]['name']\n",
    "    \n",
    "    \n",
    "    if cv2.waitKey(1) & 0xFF == ord('q'):\n",
    "        cap.release()\n",
    "        break"
   ]
  },
  {
   "cell_type": "code",
   "execution_count": null,
   "metadata": {},
   "outputs": [],
   "source": []
  }
 ],
 "metadata": {
  "kernelspec": {
   "display_name": "Python 3",
   "language": "python",
   "name": "python3"
  },
  "language_info": {
   "codemirror_mode": {
    "name": "ipython",
    "version": 3
   },
   "file_extension": ".py",
   "mimetype": "text/x-python",
   "name": "python",
   "nbconvert_exporter": "python",
   "pygments_lexer": "ipython3",
   "version": "3.7.3"
  }
 },
 "nbformat": 4,
 "nbformat_minor": 2
}
